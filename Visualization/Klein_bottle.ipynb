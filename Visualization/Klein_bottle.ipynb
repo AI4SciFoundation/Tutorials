{
  "cells": [
    {
      "cell_type": "code",
      "metadata": {},
      "source": [
        "import numpy as np",
        "import plotly.graph_objects as go",
        "from IPython.display import HTML",
        "",
        "# 定义参数范围",
        "u = np.linspace(0, 2 * np.pi, 100)",
        "v = np.linspace(0, 2 * np.pi, 100)",
        "U, V = np.meshgrid(u, v)",
        "",
        "# 计算克莱因瓶的坐标",
        "X = (2 + np.cos(U/2) * np.sin(V) - np.sin(U/2) * np.sin(2*V)) * np.cos(U)",
        "Y = (2 + np.cos(U/2) * np.sin(V) - np.sin(U/2) * np.sin(2*V)) * np.sin(U)",
        "Z = np.sin(U/2) * np.sin(V) + np.cos(U/2) * np.sin(2*V)",
        "",
        "# 创建图形",
        "fig = go.Figure(data=[go.Surface(x=X, y=Y, z=Z, colorscale='Blues', opacity=0.7)])",
        "",
        "# 设置图形的布局",
        "fig.update_layout(scene=dict(xaxis_title='X Axis',",
        "                             yaxis_title='Y Axis',",
        "                             zaxis_title='Z Axis',",
        "                             aspectmode='data'),",
        "                  margin=dict(r=0, l=0, b=0, t=0))",
        "",
        "# 显示图形",
        "HTML(fig.to_html(include_plotlyjs='cdn'))"
      ],
      "outputs": [],
      "execution_count": null
    }
  ],
  "metadata": {
    "kernelspec": {
      "display_name": "Python 3",
      "language": "python",
      "name": "python3"
    }
  },
  "nbformat": 4,
  "nbformat_minor": 5
}